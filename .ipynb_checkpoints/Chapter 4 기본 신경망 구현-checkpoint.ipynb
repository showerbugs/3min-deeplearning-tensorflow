{
 "cells": [
  {
   "cell_type": "markdown",
   "metadata": {},
   "source": [
    "# 4.1 인공신경망의 작동 원리\n",
    "\n",
    "인공신경망은 뇌의 신경 세포인 뉴런의 동작원리에 기초하여 만들어졌다. 뉴런의 기본 원리는 다음과 같다.\n",
    "\n",
    "`가지돌기(입력) -> 축삭돌기(처리) -> 축삭말단(출력) -> 다음 뉴런의 가지돌기(입력)`\n",
    "\n",
    "[!neuron](images/ch4/neuron.png)\n",
    "\n",
    "입력된 신호는 축삭돌기에서 신호가 약해지거나 해서 출력으로 이어지지 않을 수도 있고, 처음보다 더 강하게 전달될 수도 있다. 인간은 이런 뉴런을 수억개 조합해서 다양한 행동이나 판단을 수행한다. 위의 개념을 이용해서 인공 뉴런을 다음과 같이 만들 수 있다.\n",
    "\n",
    "`output = ActivationFunction(input * weight + bias)`\n",
    "\n",
    "이것이 기본적인 인공 뉴런의 구조이다. 이 때, 더 좋은 출력`output`을 얻기 위해서 가중치`weight`와 편향`bias`을 찾아가는 최적화 과정을 학습이라고 한다.\n",
    "\n",
    "## 활성화 함수 Activation Function\n",
    "\n",
    "인공 뉴런을 통해 계산된 값을 최종적으로 어떤 값으로 만들지 결정하는 함수를 말한다. 대표적으로 시그모이드`Sigmoid`, 렐루`ReLU`, 쌍곡탄젠트`tanh` 등이 있다. 모양새는 다음과 같다.\n",
    "\n"
   ]
  },
  {
   "cell_type": "code",
   "execution_count": null,
   "metadata": {},
   "outputs": [],
   "source": []
  }
 ],
 "metadata": {
  "kernelspec": {
   "display_name": "Python 3",
   "language": "python",
   "name": "python3"
  },
  "language_info": {
   "codemirror_mode": {
    "name": "ipython",
    "version": 3
   },
   "file_extension": ".py",
   "mimetype": "text/x-python",
   "name": "python",
   "nbconvert_exporter": "python",
   "pygments_lexer": "ipython3",
   "version": "3.6.3"
  }
 },
 "nbformat": 4,
 "nbformat_minor": 2
}
