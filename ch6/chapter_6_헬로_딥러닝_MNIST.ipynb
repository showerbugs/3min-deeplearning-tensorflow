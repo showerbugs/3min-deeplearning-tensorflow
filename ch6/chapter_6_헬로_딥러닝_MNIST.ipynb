{
 "cells": [
  {
   "cell_type": "markdown",
   "metadata": {},
   "source": [
    "# Chapter 6 헬로 딥러닝 MNIST\n",
    "\n",
    "MNIST 데이터 셋을 신경망으로 학습시켜 보겠습니다.\n",
    "\n",
    "- MNIST는 손으로 쓴 숫자들의 이미지를 모아놓은 데이터셋\n",
    "- 0~9까지의 숫자를 28x28 픽셀 크기의 이미지로 구성\n",
    "\n",
    "![http://simonwinder.com/wp-content/uploads/2015/07/mnistExamples.png](http://simonwinder.com/wp-content/uploads/2015/07/mnistExamples.png)\n",
    "\n",
    "\n",
    "## one-hot encoding란?\n",
    "\n",
    "![https://codelabs.developers.google.com/codelabs/cloud-tensorflow-mnist/img/1d8fc59e6a674f1c.png](https://codelabs.developers.google.com/codelabs/cloud-tensorflow-mnist/img/1d8fc59e6a674f1c.png)\n",
    "\n",
    "## 테스트용 데이터를 따로 구분하는 이유\n",
    "\n",
    "머신러닝을 위한 학습 데이터는 항상 학습용과 테스트용으로 분리해서 사용합니다.\n",
    "\n",
    "- Train dataset은 학습을 시킬 때 사용\n",
    "- Test dataset은 학습이 잘 되었는지 확인할 때 사용\n",
    "\n",
    "Train dataset으로 예측을 하면 정확도가 매우 높게 나오지만 새로운 데이터를 예측할 때는 정확도가 매우 떨어지는 경우가 많은 경우가 많습니다. 이런 상태를 보고 **Overfitting**이라 합니다.\n",
    "\n",
    "이러한 현상을 확인하고 방지하기 위해 학습 이후 Test dataset으로 검증해야 합니다.\n",
    "\n",
    "MNIST에서는 Train dataset 6만개와 Test dataset 1만개로 구성되어 있습니다.\n",
    "\n",
    "![6_overfitting](6_overfitting.png)\n",
    "\n",
    "## 6.1 MNIST 학습하기\n",
    "\n",
    "여기서는 텐서플로가 제공하는 데이터셋을 사용합니다."
   ]
  },
  {
   "cell_type": "code",
   "execution_count": 26,
   "metadata": {},
   "outputs": [
    {
     "name": "stdout",
     "output_type": "stream",
     "text": [
      "Extracting ./mnist/data/train-images-idx3-ubyte.gz\n",
      "Extracting ./mnist/data/train-labels-idx1-ubyte.gz\n",
      "Extracting ./mnist/data/t10k-images-idx3-ubyte.gz\n",
      "Extracting ./mnist/data/t10k-labels-idx1-ubyte.gz\n"
     ]
    }
   ],
   "source": [
    "import tensorflow as tf\n",
    "from tensorflow.examples.tutorials.mnist import input_data\n",
    "# one_hot 인코딩 방식으로 읽어 들임\n",
    "mnist = input_data.read_data_sets(\"./mnist/data/\", one_hot=True)"
   ]
  },
  {
   "cell_type": "code",
   "execution_count": 27,
   "metadata": {},
   "outputs": [],
   "source": [
    "# 28x28 = 784개\n",
    "X = tf.placeholder(tf.float32, [None, 784])\n",
    "# 0~9 10개\n",
    "Y = tf.placeholder(tf.float32, [None, 10])"
   ]
  },
  {
   "cell_type": "markdown",
   "metadata": {},
   "source": [
    "여기서는 2개의 hidden layer를 두는 신경만을 구성해보겠습니다.\n",
    "\n",
    "784(input layer) -> 256 (1st hidden layer) -> 256 (2nd hidden layer) -> 10 (output layer)\n"
   ]
  },
  {
   "cell_type": "code",
   "execution_count": 28,
   "metadata": {},
   "outputs": [],
   "source": [
    "# random_normal은 주어진 표준편차의 청규분포를 가지는 임의의 값을 제공\n",
    "W1 = tf.Variable(tf.random_normal([784, 256], stddev=0.01))\n",
    "L1 = tf.nn.relu(tf.matmul(X, W1))\n",
    "\n",
    "W2 = tf.Variable(tf.random_normal([256, 256], stddev=0.01))\n",
    "L2 = tf.nn.relu(tf.matmul(L1, W2))\n",
    "\n",
    "W3 = tf.Variable(tf.random_normal([256, 10], stddev=0.01))\n",
    "model = tf.matmul(L2, W3)"
   ]
  },
  {
   "cell_type": "code",
   "execution_count": 29,
   "metadata": {},
   "outputs": [],
   "source": [
    "cost = tf.reduce_mean(tf.nn.softmax_cross_entropy_with_logits(logits=model, labels=Y))\n",
    "optimizer = tf.train.AdamOptimizer(0.001).minimize(cost)"
   ]
  },
  {
   "cell_type": "code",
   "execution_count": 30,
   "metadata": {},
   "outputs": [],
   "source": [
    "init = tf.global_variables_initializer()\n",
    "sess = tf.Session()\n",
    "sess.run(init)"
   ]
  },
  {
   "cell_type": "markdown",
   "metadata": {},
   "source": [
    "MNIST는 데이터가 수만 개라서 여러 개를 한번에 학습시키면 메모리나 CPU 연산에 부하가 많이 걸립니다. \n",
    "\n",
    "- 그렇기 때문에 데이터를 적절한 minibatch로 잘라 학습시킵니다."
   ]
  },
  {
   "cell_type": "code",
   "execution_count": 31,
   "metadata": {},
   "outputs": [],
   "source": [
    "batch_size = 100\n",
    "total_batch = int(mnist.train.num_examples / batch_size)"
   ]
  },
  {
   "cell_type": "markdown",
   "metadata": {},
   "source": [
    "그리고 데이터 전체를 학습하는 일을 총 15번 반복합니다\n",
    "\n",
    "- Train dataset 전체를 한 바퀴 도는 것을 epoch라고 합니다"
   ]
  },
  {
   "cell_type": "code",
   "execution_count": 32,
   "metadata": {},
   "outputs": [
    {
     "name": "stdout",
     "output_type": "stream",
     "text": [
      "Epoch:0001 Avg. cost =0.409\n",
      "Epoch:0002 Avg. cost =0.155\n",
      "Epoch:0003 Avg. cost =0.103\n",
      "Epoch:0004 Avg. cost =0.072\n",
      "Epoch:0005 Avg. cost =0.052\n",
      "Epoch:0006 Avg. cost =0.042\n",
      "Epoch:0007 Avg. cost =0.033\n",
      "Epoch:0008 Avg. cost =0.026\n",
      "Epoch:0009 Avg. cost =0.019\n",
      "Epoch:0010 Avg. cost =0.018\n",
      "Epoch:0011 Avg. cost =0.016\n",
      "Epoch:0012 Avg. cost =0.014\n",
      "Epoch:0013 Avg. cost =0.014\n",
      "Epoch:0014 Avg. cost =0.010\n",
      "Epoch:0015 Avg. cost =0.011\n",
      "최적화 완료!\n"
     ]
    }
   ],
   "source": [
    "for epoch in range(15):\n",
    "    total_cost = 0\n",
    "    for i in range(total_batch):\n",
    "        batch_xs, batch_ys = mnist.train.next_batch(batch_size)\n",
    "        \n",
    "        _, cost_val = sess.run([optimizer, cost], \n",
    "                               feed_dict={X: batch_xs, Y: batch_ys})\n",
    "        total_cost += cost_val\n",
    "    print('Epoch:{:04d} Avg. cost ={:.3f}'.format(epoch + 1, total_cost / total_batch))\n",
    "\n",
    "print('최적화 완료!')"
   ]
  },
  {
   "cell_type": "markdown",
   "metadata": {},
   "source": [
    "model을 구동해 나오는 결과는 아래와 같을 것입니다.\n",
    "\n",
    "![6_argmax.png](6_argmax.png)\n",
    "\n",
    "이제 학습이 잘 되었는지 검증해보도록 하겠습니다.\n",
    "\n",
    "- argmax로 가장 큰 값을 가진 인덱스를 가져옵니다\n",
    "- 그 인덱스로 비교해 정확도를 측정합니다.\n",
    "- equal의 반환이 bool이기 때문에 float으로 casting\n",
    "- 그리고 mean(평균)을 측정  \n",
    "    - `(1+0+1+1+0+1) 6`"
   ]
  },
  {
   "cell_type": "code",
   "execution_count": 33,
   "metadata": {},
   "outputs": [
    {
     "name": "stdout",
     "output_type": "stream",
     "text": [
      "정확도: 0.98\n"
     ]
    }
   ],
   "source": [
    "is_correct = tf.equal(tf.argmax(model, 1), tf.argmax(Y, 1))\n",
    "accuracy = tf.reduce_mean(tf.cast(is_correct, tf.float32))\n",
    "\n",
    "print('정확도:', sess.run(accuracy,\n",
    "                      feed_dict={X: mnist.test.images,\n",
    "                                 Y: mnist.test.labels}))"
   ]
  },
  {
   "cell_type": "code",
   "execution_count": 35,
   "metadata": {},
   "outputs": [
    {
     "name": "stdout",
     "output_type": "stream",
     "text": [
      "Extracting ./mnist/data/train-images-idx3-ubyte.gz\n",
      "Extracting ./mnist/data/train-labels-idx1-ubyte.gz\n",
      "Extracting ./mnist/data/t10k-images-idx3-ubyte.gz\n",
      "Extracting ./mnist/data/t10k-labels-idx1-ubyte.gz\n",
      "Epoch:0001 Avg. cost =0.402\n",
      "Epoch:0002 Avg. cost =0.145\n",
      "Epoch:0003 Avg. cost =0.093\n",
      "Epoch:0004 Avg. cost =0.069\n",
      "Epoch:0005 Avg. cost =0.050\n",
      "Epoch:0006 Avg. cost =0.039\n",
      "Epoch:0007 Avg. cost =0.030\n",
      "Epoch:0008 Avg. cost =0.025\n",
      "Epoch:0009 Avg. cost =0.021\n",
      "Epoch:0010 Avg. cost =0.017\n",
      "Epoch:0011 Avg. cost =0.017\n",
      "Epoch:0012 Avg. cost =0.016\n",
      "Epoch:0013 Avg. cost =0.011\n",
      "Epoch:0014 Avg. cost =0.011\n",
      "Epoch:0015 Avg. cost =0.012\n",
      "최적화 완료!\n",
      "정확도: 0.9803\n"
     ]
    }
   ],
   "source": [
    "import tensorflow as tf\n",
    "from tensorflow.examples.tutorials.mnist import input_data\n",
    "# one_hot 인코딩 방식으로 읽어 들임\n",
    "mnist = input_data.read_data_sets(\"./mnist/data/\", one_hot=True)\n",
    "\n",
    "# 28x28 = 784개\n",
    "X = tf.placeholder(tf.float32, [None, 784])\n",
    "# 0~9 10개\n",
    "Y = tf.placeholder(tf.float32, [None, 10])\n",
    "\n",
    "# random_normal은 주어진 표준편차의 청규분포를 가지는 임의의 값을 제공\n",
    "W1 = tf.Variable(tf.random_normal([784, 256], stddev=0.01))\n",
    "L1 = tf.nn.relu(tf.matmul(X, W1))\n",
    "\n",
    "W2 = tf.Variable(tf.random_normal([256, 256], stddev=0.01))\n",
    "L2 = tf.nn.relu(tf.matmul(L1, W2))\n",
    "\n",
    "W3 = tf.Variable(tf.random_normal([256, 10], stddev=0.01))\n",
    "model = tf.matmul(L2, W3)\n",
    "\n",
    "cost = tf.reduce_mean(tf.nn.softmax_cross_entropy_with_logits(logits=model, labels=Y))\n",
    "optimizer = tf.train.AdamOptimizer(0.001).minimize(cost)\n",
    "\n",
    "init = tf.global_variables_initializer()\n",
    "sess = tf.Session()\n",
    "sess.run(init)\n",
    "\n",
    "batch_size = 100\n",
    "total_batch = int(mnist.train.num_examples / batch_size)\n",
    "\n",
    "for epoch in range(15):\n",
    "    total_cost = 0\n",
    "    for i in range(total_batch):\n",
    "        batch_xs, batch_ys = mnist.train.next_batch(batch_size)\n",
    "        \n",
    "        _, cost_val = sess.run([optimizer, cost], \n",
    "                               feed_dict={X: batch_xs, Y: batch_ys})\n",
    "        total_cost += cost_val\n",
    "    print('Epoch:{:04d} Avg. cost ={:.3f}'.format(epoch + 1, total_cost / total_batch))\n",
    "\n",
    "print('최적화 완료!')\n",
    "\n",
    "is_correct = tf.equal(tf.argmax(model, 1), tf.argmax(Y, 1))\n",
    "accuracy = tf.reduce_mean(tf.cast(is_correct, tf.float32))\n",
    "\n",
    "print('정확도:', sess.run(accuracy,\n",
    "                      feed_dict={X: mnist.test.images,\n",
    "                                 Y: mnist.test.labels}))"
   ]
  },
  {
   "cell_type": "markdown",
   "metadata": {},
   "source": [
    "## 6.2 드롭아웃\n",
    "\n",
    "Dropout은 Overfitting을 막기 위해 사용되는 방법 중 가장 효과가 좋은 방법 중 하나입니다.\n",
    "\n",
    "Dropout의 원리는 학습 시 전체 신경망 중 일부만을 사용하도록 하는 것입니다.\n",
    "\n",
    "- 즉 학습 단계마다 일부 뉴런을 제거함으로써 일부 특징이 특정 뉴런들에 고정되는 것을 막아 가중치의 균형을 잡도록 도와줍니다.\n",
    "- 다만, 학습시간은 증가하게 됩니다.\n",
    "\n",
    "![6_dropout](6_dropout.png)\n",
    "\n",
    "위의 모델에 Dropout을 적용하면 아래처럼 수정하면 됩니다.\n",
    "\n",
    "- keep_prob는 학습시에는 0.8을 넣고 예측시에는 1을 넣어 dropout 비율을 조절하기 위해 사용합니다.\n",
    "\n",
    "```py\n",
    "keep_prob = tf.placeholder(tf.float32)\n",
    "\n",
    "W1 = tf.Variable(tf.random_normal([784, 256], stddev=0.01))\n",
    "L1 = tf.nn.relu(tf.matmul(X, W1))\n",
    "L1 = tf.nn.dropout(L1, keep_prob)\n",
    "\n",
    "W2 = tf.Variable(tf.random_normal([256, 256], stddev=0.01))\n",
    "L2 = tf.nn.relu(tf.matmul(L1, W2))\n",
    "L2 = tf.nn.dropout(L2, keep_prob)\n",
    "\n",
    "# 학습 코드\n",
    "_, cost_val = sess.run([optimizer, cost], \n",
    "    feed_dict={X: batch_xs,Y: batch_ys, keep_prob: 0.8})\n",
    "\n",
    "# 예측 코드: keep_prob를 1로 넣어줍니다.\n",
    "print('정확도:', sess.run(accuracy,\n",
    "    feed_dict={X: mnist.test.images,Y: mnist.test.labels, keep_prob: 1})\n",
    "```\n",
    "\n",
    "드롭 아웃을 적용하면 학습이 느리게 진행되기 때문에(학습 속도가 느림) epoch도 더 늘리도록 하겠습니다."
   ]
  },
  {
   "cell_type": "code",
   "execution_count": 36,
   "metadata": {},
   "outputs": [
    {
     "name": "stdout",
     "output_type": "stream",
     "text": [
      "Extracting ./mnist/data/train-images-idx3-ubyte.gz\n",
      "Extracting ./mnist/data/train-labels-idx1-ubyte.gz\n",
      "Extracting ./mnist/data/t10k-images-idx3-ubyte.gz\n",
      "Extracting ./mnist/data/t10k-labels-idx1-ubyte.gz\n",
      "Epoch:0001 Avg. cost =0.443\n",
      "Epoch:0002 Avg. cost =0.166\n",
      "Epoch:0003 Avg. cost =0.114\n",
      "Epoch:0004 Avg. cost =0.091\n",
      "Epoch:0005 Avg. cost =0.074\n",
      "Epoch:0006 Avg. cost =0.062\n",
      "Epoch:0007 Avg. cost =0.053\n",
      "Epoch:0008 Avg. cost =0.048\n",
      "Epoch:0009 Avg. cost =0.043\n",
      "Epoch:0010 Avg. cost =0.038\n",
      "Epoch:0011 Avg. cost =0.035\n",
      "Epoch:0012 Avg. cost =0.031\n",
      "Epoch:0013 Avg. cost =0.030\n",
      "Epoch:0014 Avg. cost =0.029\n",
      "Epoch:0015 Avg. cost =0.025\n",
      "Epoch:0016 Avg. cost =0.028\n",
      "Epoch:0017 Avg. cost =0.024\n",
      "Epoch:0018 Avg. cost =0.022\n",
      "Epoch:0019 Avg. cost =0.021\n",
      "Epoch:0020 Avg. cost =0.020\n",
      "Epoch:0021 Avg. cost =0.020\n",
      "Epoch:0022 Avg. cost =0.019\n",
      "Epoch:0023 Avg. cost =0.021\n",
      "Epoch:0024 Avg. cost =0.016\n",
      "Epoch:0025 Avg. cost =0.019\n",
      "Epoch:0026 Avg. cost =0.017\n",
      "Epoch:0027 Avg. cost =0.017\n",
      "Epoch:0028 Avg. cost =0.017\n",
      "Epoch:0029 Avg. cost =0.017\n",
      "Epoch:0030 Avg. cost =0.016\n",
      "최적화 완료!\n",
      "정확도: 0.9819\n"
     ]
    }
   ],
   "source": [
    "import tensorflow as tf\n",
    "from tensorflow.examples.tutorials.mnist import input_data\n",
    "\n",
    "mnist = input_data.read_data_sets(\"./mnist/data/\", one_hot=True)\n",
    "\n",
    "X = tf.placeholder(tf.float32, [None, 784])\n",
    "Y = tf.placeholder(tf.float32, [None, 10])\n",
    "\n",
    "keep_prob = tf.placeholder(tf.float32)\n",
    "\n",
    "W1 = tf.Variable(tf.random_normal([784, 256], stddev=0.01))\n",
    "L1 = tf.nn.relu(tf.matmul(X, W1))\n",
    "L1 = tf.nn.dropout(L1, keep_prob)\n",
    "\n",
    "W2 = tf.Variable(tf.random_normal([256, 256], stddev=0.01))\n",
    "L2 = tf.nn.relu(tf.matmul(L1, W2))\n",
    "L2 = tf.nn.dropout(L2, keep_prob)\n",
    "\n",
    "W3 = tf.Variable(tf.random_normal([256, 10], stddev=0.01))\n",
    "model = tf.matmul(L2, W3)\n",
    "\n",
    "cost = tf.reduce_mean(tf.nn.softmax_cross_entropy_with_logits(logits=model, labels=Y))\n",
    "optimizer = tf.train.AdamOptimizer(0.001).minimize(cost)\n",
    "\n",
    "init = tf.global_variables_initializer()\n",
    "sess = tf.Session()\n",
    "sess.run(init)\n",
    "\n",
    "batch_size = 100\n",
    "total_batch = int(mnist.train.num_examples / batch_size)\n",
    "\n",
    "for epoch in range(30):\n",
    "    total_cost = 0\n",
    "    for i in range(total_batch):\n",
    "        batch_xs, batch_ys = mnist.train.next_batch(batch_size)\n",
    "        \n",
    "        _, cost_val = sess.run([optimizer, cost], \n",
    "                               feed_dict={X: batch_xs, Y: batch_ys, \n",
    "                                          keep_prob: 0.8})\n",
    "        total_cost += cost_val\n",
    "    print('Epoch:{:04d} Avg. cost ={:.3f}'.format(epoch + 1, total_cost / total_batch))\n",
    "\n",
    "print('최적화 완료!')\n",
    "\n",
    "is_correct = tf.equal(tf.argmax(model, 1), tf.argmax(Y, 1))\n",
    "accuracy = tf.reduce_mean(tf.cast(is_correct, tf.float32))\n",
    "\n",
    "print('정확도:', sess.run(accuracy,\n",
    "                      feed_dict={X: mnist.test.images,\n",
    "                                 Y: mnist.test.labels,\n",
    "                                 keep_prob: 1}))"
   ]
  },
  {
   "cell_type": "markdown",
   "metadata": {},
   "source": [
    "다른 방법으로는 batch normalization이라는 기법도 있는데 영기선 생략하겠습니다.\n",
    "\n",
    "- overfitting를 막아주고 학습 속도도 향상됨\n",
    "\n",
    "## 6.3 matplotlib\n",
    "\n",
    "matplotlib은 시각화를 위한 그래프를 쉽게 그릴 수 있도록 도와주는 파이썬 라이브러리입니다.\n",
    "\n",
    "이번 절에서는 matplotlib을 이용해 학습 결과를 손글씨 이미지로 확인해보는 간단한 예제를 만들어 보겠습니다.\n",
    "\n",
    "앞절에서 작성한 코드에 아래 코드를 추가합니다.\n"
   ]
  },
  {
   "cell_type": "code",
   "execution_count": 40,
   "metadata": {},
   "outputs": [
    {
     "data": {
      "image/png": "[encoded data removed]",
      "text/plain": [
       "<matplotlib.figure.Figure at 0x121d00fd0>"
      ]
     },
     "metadata": {},
     "output_type": "display_data"
    }
   ],
   "source": [
    "import matplotlib.pyplot as plt\n",
    "import numpy as np\n",
    "\n",
    "# 1. 테스트 데이터를 이용해 예측 모델을 실행한 결과값을 저장\n",
    "labels = sess.run(model,\n",
    "                 feed_dict={X: mnist.test.images,\n",
    "                            Y: mnist.test.labels,\n",
    "                            keep_prob: 1})\n",
    "\n",
    "# 2. 손글씨를 출력할 그래프를 준비\n",
    "fig = plt.figure()\n",
    "\n",
    "# 3. 테스트 데이터의 첫 번째부터 열 번째까지의 이미지와 예측한 값을 출력\n",
    "for i in range(10):\n",
    "    # 4. 2행 5열의 그래프를 만들고 i+1번째 숫자 이미지를 출력\n",
    "    subplot = fig.add_subplot(2, 5, i+1)\n",
    "    # 5. 깨끗한 이미지를 출력하기 위해 눈금을 삭제\n",
    "    subplot.set_xticks([])\n",
    "    subplot.set_yticks([])\n",
    "    # 6. 출력한 이미지 위에 예측한 숫자를 출력\n",
    "    subplot.set_title('{}'.format(np.argmax(labels[i])))\n",
    "    # 7. 1차원 배열로 되어 있는 이미지를 28x28로 변형하여 출력\n",
    "    subplot.imshow(mnist.test.images[i].reshape((28, 28)),\n",
    "                  cmap=plt.cm.gray_r)\n",
    "# 8. 그래프 출력\n",
    "plt.show()\n",
    "    "
   ]
  },
  {
   "cell_type": "code",
   "execution_count": null,
   "metadata": {},
   "outputs": [],
   "source": []
  }
 ],
 "metadata": {
  "kernelspec": {
   "display_name": "Python 3",
   "language": "python",
   "name": "python3"
  },
  "language_info": {
   "codemirror_mode": {
    "name": "ipython",
    "version": 3
   },
   "file_extension": ".py",
   "mimetype": "text/x-python",
   "name": "python",
   "nbconvert_exporter": "python",
   "pygments_lexer": "ipython3",
   "version": "3.6.3"
  }
 },
 "nbformat": 4,
 "nbformat_minor": 2
}
